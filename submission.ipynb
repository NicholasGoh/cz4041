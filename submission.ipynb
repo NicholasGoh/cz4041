{
 "cells": [
  {
   "cell_type": "code",
   "execution_count": 1,
   "id": "1ff0f249",
   "metadata": {
    "scrolled": true
   },
   "outputs": [
    {
     "name": "stderr",
     "output_type": "stream",
     "text": [
      "/home/nic/.local/lib/python3.8/site-packages/tensorflow_addons/utils/ensure_tf_install.py:53: UserWarning: Tensorflow Addons supports using Python ops for all Tensorflow versions above or equal to 2.6.0 and strictly below 2.9.0 (nightly versions are not supported). \n",
      " The versions of TensorFlow you are currently using is 2.5.0 and is not supported. \n",
      "Some things might work, some things might not.\n",
      "If you were to encounter a bug, do not file an issue.\n",
      "If you want to make sure you're using a tested and supported configuration, either change the TensorFlow version or the TensorFlow Addons's version. \n",
      "You can find the compatibility matrix in TensorFlow Addon's readme:\n",
      "https://github.com/tensorflow/addons\n",
      "  warnings.warn(\n"
     ]
    }
   ],
   "source": [
    "import os, glob\n",
    "os.environ['TF_CPP_MIN_LOG_LEVEL'] = '2' # ignore info and warnings\n",
    "import pandas as pd\n",
    "\n",
    "from utils import DatasetWrapper, ModelWrapper"
   ]
  },
  {
   "cell_type": "code",
   "execution_count": 2,
   "id": "a6af0044",
   "metadata": {},
   "outputs": [
    {
     "name": "stdout",
     "output_type": "stream",
     "text": [
      "Found 3330 images belonging to 12 classes.\n",
      "Found 1420 images belonging to 12 classes.\n"
     ]
    }
   ],
   "source": [
    "dataset = DatasetWrapper(dataset_path='/data/train', img_size=224, batch_size=64)\n",
    "dataset.make_datagens(augment=True, hsv_mask=True)\n",
    "model = ModelWrapper(dataset)\n",
    "model.make_model(figname='hsv_augmented')\n",
    "model.model.load_weights(os.path.join(model.weightdir, model.figname + '.h5'))"
   ]
  },
  {
   "cell_type": "code",
   "execution_count": 3,
   "id": "34dc4307",
   "metadata": {},
   "outputs": [],
   "source": [
    "paths = sorted(glob.glob('/data/test/*.png'))"
   ]
  },
  {
   "cell_type": "code",
   "execution_count": 5,
   "id": "01199fc3",
   "metadata": {},
   "outputs": [],
   "source": [
    "import tensorflow.keras.preprocessing as tfkp\n",
    "import tensorflow as tf\n",
    "import matplotlib.pyplot as plt\n",
    "import numpy as np\n",
    "from utils import get_hsv_masked\n",
    "from tensorflow.keras.applications.mobilenet_v2 import preprocess_input\n",
    "import cv2"
   ]
  },
  {
   "cell_type": "code",
   "execution_count": 6,
   "id": "40ff2c0f",
   "metadata": {},
   "outputs": [],
   "source": [
    "df = dict(file=[], species=[])\n",
    "mapping = {v: k for k, v in dataset.train_generator.class_indices.items()}\n",
    "for p in paths:\n",
    "    img = np.array(tfkp.image.load_img(p))\n",
    "    img = tfkp.image.smart_resize(\n",
    "        img, (224, 224), interpolation='bilinear')\n",
    "    img = np.array(img)\n",
    "    img = preprocess_input(get_hsv_masked(img))\n",
    "    img = tf.expand_dims(img, 0)\n",
    "    i = model.model(img)\n",
    "    df['file'].append(p.split('/')[-1])\n",
    "    df['species'].append(mapping[i.numpy().argmax()])"
   ]
  },
  {
   "cell_type": "code",
   "execution_count": 7,
   "id": "8b7bc0c4",
   "metadata": {},
   "outputs": [
    {
     "data": {
      "text/html": [
       "<div>\n",
       "<style scoped>\n",
       "    .dataframe tbody tr th:only-of-type {\n",
       "        vertical-align: middle;\n",
       "    }\n",
       "\n",
       "    .dataframe tbody tr th {\n",
       "        vertical-align: top;\n",
       "    }\n",
       "\n",
       "    .dataframe thead th {\n",
       "        text-align: right;\n",
       "    }\n",
       "</style>\n",
       "<table border=\"1\" class=\"dataframe\">\n",
       "  <thead>\n",
       "    <tr style=\"text-align: right;\">\n",
       "      <th></th>\n",
       "      <th>file</th>\n",
       "      <th>species</th>\n",
       "    </tr>\n",
       "  </thead>\n",
       "  <tbody>\n",
       "    <tr>\n",
       "      <th>0</th>\n",
       "      <td>0021e90e4.png</td>\n",
       "      <td>Small-flowered Cranesbill</td>\n",
       "    </tr>\n",
       "    <tr>\n",
       "      <th>1</th>\n",
       "      <td>003d61042.png</td>\n",
       "      <td>Fat Hen</td>\n",
       "    </tr>\n",
       "    <tr>\n",
       "      <th>2</th>\n",
       "      <td>007b3da8b.png</td>\n",
       "      <td>Sugar beet</td>\n",
       "    </tr>\n",
       "    <tr>\n",
       "      <th>3</th>\n",
       "      <td>0086a6340.png</td>\n",
       "      <td>Common Chickweed</td>\n",
       "    </tr>\n",
       "    <tr>\n",
       "      <th>4</th>\n",
       "      <td>00c47e980.png</td>\n",
       "      <td>Sugar beet</td>\n",
       "    </tr>\n",
       "    <tr>\n",
       "      <th>...</th>\n",
       "      <td>...</td>\n",
       "      <td>...</td>\n",
       "    </tr>\n",
       "    <tr>\n",
       "      <th>789</th>\n",
       "      <td>fea355851.png</td>\n",
       "      <td>Loose Silky-bent</td>\n",
       "    </tr>\n",
       "    <tr>\n",
       "      <th>790</th>\n",
       "      <td>fea3da57c.png</td>\n",
       "      <td>Sugar beet</td>\n",
       "    </tr>\n",
       "    <tr>\n",
       "      <th>791</th>\n",
       "      <td>fef2ade8c.png</td>\n",
       "      <td>Sugar beet</td>\n",
       "    </tr>\n",
       "    <tr>\n",
       "      <th>792</th>\n",
       "      <td>ff65bc002.png</td>\n",
       "      <td>Charlock</td>\n",
       "    </tr>\n",
       "    <tr>\n",
       "      <th>793</th>\n",
       "      <td>ffc6f8527.png</td>\n",
       "      <td>Common wheat</td>\n",
       "    </tr>\n",
       "  </tbody>\n",
       "</table>\n",
       "<p>794 rows × 2 columns</p>\n",
       "</div>"
      ],
      "text/plain": [
       "              file                    species\n",
       "0    0021e90e4.png  Small-flowered Cranesbill\n",
       "1    003d61042.png                    Fat Hen\n",
       "2    007b3da8b.png                 Sugar beet\n",
       "3    0086a6340.png           Common Chickweed\n",
       "4    00c47e980.png                 Sugar beet\n",
       "..             ...                        ...\n",
       "789  fea355851.png           Loose Silky-bent\n",
       "790  fea3da57c.png                 Sugar beet\n",
       "791  fef2ade8c.png                 Sugar beet\n",
       "792  ff65bc002.png                   Charlock\n",
       "793  ffc6f8527.png               Common wheat\n",
       "\n",
       "[794 rows x 2 columns]"
      ]
     },
     "execution_count": 7,
     "metadata": {},
     "output_type": "execute_result"
    }
   ],
   "source": [
    "df = pd.DataFrame.from_dict(df)\n",
    "df"
   ]
  },
  {
   "cell_type": "code",
   "execution_count": 11,
   "id": "06a1e8d8",
   "metadata": {},
   "outputs": [],
   "source": [
    "df.to_csv('results/submission.csv', index=False)"
   ]
  },
  {
   "cell_type": "markdown",
   "id": "2e527c51",
   "metadata": {},
   "source": [
    "~ 596 rank; 0.88413 score"
   ]
  },
  {
   "cell_type": "code",
   "execution_count": null,
   "id": "266b2498",
   "metadata": {},
   "outputs": [],
   "source": []
  }
 ],
 "metadata": {
  "kernelspec": {
   "display_name": "Python 3 (ipykernel)",
   "language": "python",
   "name": "python3"
  },
  "language_info": {
   "codemirror_mode": {
    "name": "ipython",
    "version": 3
   },
   "file_extension": ".py",
   "mimetype": "text/x-python",
   "name": "python",
   "nbconvert_exporter": "python",
   "pygments_lexer": "ipython3",
   "version": "3.8.10"
  }
 },
 "nbformat": 4,
 "nbformat_minor": 5
}
